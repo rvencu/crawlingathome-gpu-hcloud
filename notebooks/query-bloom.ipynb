{
 "cells": [
  {
   "cell_type": "code",
   "execution_count": 1,
   "source": [
    "import requests\n",
    "from pathlib import Path\n",
    "\n",
    "bloomip = \"116.202.162.146\""
   ],
   "outputs": [],
   "metadata": {}
  },
  {
   "cell_type": "code",
   "execution_count": 5,
   "source": [
    "file = \"/home/rvencu/gpuhcloud/crawlingathome-gpu-hcloud/notebooks/test.hsh\"\n",
    "stem = Path(file).stem.strip(\".\")\n",
    "post = {\n",
    "    'file': (stem, open(file, 'rb')),\n",
    "    'key': (None, 'clipped'),\n",
    "}\n",
    "response = requests.post(f'http://{bloomip}:8000/deduplicate/', files=post)\n",
    "if response.status_code == 200:\n",
    "    print(response.content.decode(\"utf-8\"))"
   ],
   "outputs": [
    {
     "output_type": "stream",
     "name": "stdout",
     "text": [
      "d10e361a18d69ef07c08857fb1198d22\n",
      "136061a9e0426bc0a6274d70ab834e60\n",
      "563a4dd46eb8dddf7b85d35f236cb12b\n",
      "d10e361a18d69ef07c08857fb1198d23\n",
      "136061a9e0426bc0a6274d70ab834e61\n",
      "563a4dd46eb8dddf7b85d35f236cb12c\n",
      "\n"
     ]
    }
   ],
   "metadata": {}
  }
 ],
 "metadata": {
  "orig_nbformat": 4,
  "language_info": {
   "name": "python",
   "version": "3.8.8",
   "mimetype": "text/x-python",
   "codemirror_mode": {
    "name": "ipython",
    "version": 3
   },
   "pygments_lexer": "ipython3",
   "nbconvert_exporter": "python",
   "file_extension": ".py"
  },
  "kernelspec": {
   "name": "python3",
   "display_name": "Python 3.8.8 64-bit ('gpuhcloud': conda)"
  },
  "interpreter": {
   "hash": "bc322c11e8113b1b1dfcd753c5702c5c5d95a81c495f9a7060b170a2a7888bca"
  }
 },
 "nbformat": 4,
 "nbformat_minor": 2
}